{
  "cells": [
    {
      "cell_type": "code",
      "execution_count": null,
      "metadata": {
        "id": "aXMjBitDZqKs"
      },
      "outputs": [],
      "source": [
        "import numpy as np\n",
        "import pandas as pd\n",
        "import matplotlib.pyplot as plt\n",
        "from PIL import Image\n",
        "from skimage.color import rgb2hed, hed2rgb\n",
        "import glob\n",
        "\n",
        "\n",
        "\n",
        "X = np.load('/content/drive/MyDrive/CoNIC_Challenge/images.npy')#read images"
      ]
    },
    {
      "cell_type": "code",
      "execution_count": null,
      "metadata": {
        "colab": {
          "base_uri": "https://localhost:8080/"
        },
        "id": "9qvOHuUsjkF8",
        "outputId": "353a330e-4a10-45fb-9d6e-81948023dff9"
      },
      "outputs": [
        {
          "data": {
            "text/plain": [
              "(4981, 256, 256, 3)"
            ]
          },
          "execution_count": 4,
          "metadata": {},
          "output_type": "execute_result"
        }
      ],
      "source": [
        "X.shape"
      ]
    },
    {
      "cell_type": "markdown",
      "source": [
        "Saving the H&E images as JPGs as well as the different stain in my Google Drive account.\n"
      ],
      "metadata": {
        "id": "97gkJFjgmY1B"
      }
    },
    {
      "cell_type": "code",
      "source": [
        "dir1 = '/content/drive/MyDrive/h_e'\n",
        "dir2 = '/content/drive/MyDrive/h_only'\n",
        "dir3 = '/content/drive/MyDrive/e_only'\n"
      ],
      "metadata": {
        "id": "MIKm8h3InhDh"
      },
      "execution_count": null,
      "outputs": []
    },
    {
      "cell_type": "code",
      "source": [
        "for i in range(X.shape[0]):\n",
        "  img = X[i]\n",
        "  im = Image.fromarray(X[i])\n",
        "  im.save(dir1 + str(i) + \".jpg\", \"JPEG\")\n",
        "\n",
        "  img = img/255.0\n",
        "  im_hed = rgb2hed(img)\n",
        "  img_h = im_hed[:,:,0]\n",
        "  img_e = im_hed[:,:,1]\n",
        "  img_d = im_hed[:,:,2]\n",
        "\n",
        "  null = np.zeros_like(img_h)\n",
        "  img_h = hed2rgb(np.stack((img_h, null, null), axis=-1))\n",
        "  img_h = img_h*255\n",
        "  img_h = img_h.astype(np.uint8)\n",
        "  im_h = Image.fromarray(img_h)\n",
        "  im_h.save(dir2 + str(i) + \".jpg\", \"JPEG\")\n",
        "\n",
        "  img_e = hed2rgb(np.stack((null, img_e, null), axis=-1))\n",
        "  img_e = img_e*255\n",
        "  img_e = img_e.astype(np.uint8)\n",
        "  im_e = Image.fromarray(img_e)\n",
        "  im_e.save(dir2 + str(i) + \".jpg\", \"JPEG\")\n"
      ],
      "metadata": {
        "id": "wN6cYhIA99sc"
      },
      "execution_count": null,
      "outputs": []
    },
    {
      "cell_type": "code",
      "source": [
        "combine_train = '/content/drive/MyDrive/fold12'\n",
        "combine_test = '/content/drive/MyDrive/fold3'\n",
        "fold12 = np.load('/content/drive/MyDrive/fold12.npy')\n",
        "fold3 = np.load('/content/drive/MyDrive/fold3.npy')"
      ],
      "metadata": {
        "id": "qCxwxPaor_r8"
      },
      "execution_count": null,
      "outputs": []
    },
    {
      "cell_type": "markdown",
      "source": [
        "Combine images for pix2pix input. (H image + original H&E image)"
      ],
      "metadata": {
        "id": "KFKRV3A6oKfx"
      }
    },
    {
      "cell_type": "code",
      "source": [
        "import numpy as np\n",
        "import pandas as pd\n",
        "import matplotlib.pyplot as plt\n",
        "from PIL import Image as im\n",
        "\n",
        "HEIGHT = 256\n",
        "IWIDTH = 256\n",
        "# take two images both of which should be 256x256 then combine them into a image that is 512x256\n",
        "FWIDTH = 512\n",
        "\n",
        "\n",
        "def combine_img(img0,img1,k):\n",
        "  # create a new empty rgb image where the other two will be pasted\n",
        "  newimg = Image.new('RGB', (FWIDTH, HEIGHT))\n",
        "  first = 0\n",
        "  second = 256\n",
        "\n",
        "  # paste the two images\n",
        "  newimg.paste(img0, (first,0))\n",
        "  newimg.paste(img1, (second, 0))\n",
        "  if i in fold12:\n",
        "    newimg.save(combine_train + str(i) + \".jpg\", \"JPEG\")\n",
        "  else:\n",
        "    newimg.save(combine_test + str(i) + \".jpg\", \"JPEG\")\n",
        "  newimg.save(save_dir + str(k) + \".jpg\", \"JPEG\")\n"
      ],
      "metadata": {
        "id": "5peU51yVkLkA"
      },
      "execution_count": null,
      "outputs": []
    },
    {
      "cell_type": "code",
      "source": [
        "paths_og = sorted(glob.glob(dir1 + \"/*.jpg\"))\n",
        "paths_h = sorted(glob.glob(dir2 + \"/*.jpg\"))\n",
        "\n",
        "for i in range(X.shape[0]):\n",
        "  img0 = Image.open(paths_og[i])\n",
        "  img1 = Image.open(paths_h[i])\n",
        "  combine_img(img0,img1)"
      ],
      "metadata": {
        "id": "ETGiUr_lld4b"
      },
      "execution_count": null,
      "outputs": []
    }
  ],
  "metadata": {
    "colab": {
      "provenance": []
    },
    "gpuClass": "standard",
    "kernelspec": {
      "display_name": "Python 3",
      "name": "python3"
    },
    "language_info": {
      "name": "python"
    }
  },
  "nbformat": 4,
  "nbformat_minor": 0
}